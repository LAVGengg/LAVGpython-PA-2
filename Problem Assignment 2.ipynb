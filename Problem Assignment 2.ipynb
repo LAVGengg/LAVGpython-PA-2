{
 "cells": [
  {
   "cell_type": "code",
   "execution_count": null,
   "id": "7ea42dfe-8f38-47e8-9fca-2251b864e4fd",
   "metadata": {},
   "outputs": [],
   "source": [
    "#Larssen Andre V. Guevarra | 2 ECE - C | PA#2"
   ]
  },
  {
   "cell_type": "markdown",
   "id": "162f392b-6730-4861-8bad-b55584f66d64",
   "metadata": {},
   "source": [
    "**PA 2 - Numerical Python**"
   ]
  },
  {
   "cell_type": "code",
   "execution_count": 10,
   "id": "5a94e457-7ab1-4858-ad84-8e5237632748",
   "metadata": {},
   "outputs": [],
   "source": [
    "import numpy as np"
   ]
  },
  {
   "cell_type": "code",
   "execution_count": null,
   "id": "aa6510f2-c63c-4346-95f6-481bc8f10b3d",
   "metadata": {},
   "outputs": [],
   "source": [
    "#Normalization Problem"
   ]
  },
  {
   "cell_type": "code",
   "execution_count": 21,
   "id": "acfb0d78-ea20-4b42-899a-ed4ebf7944e7",
   "metadata": {},
   "outputs": [
    {
     "name": "stdout",
     "output_type": "stream",
     "text": [
      "Random Array:\n",
      "[[0.54322014 0.07503974 0.31215981 0.30368134 0.29942424]\n",
      " [0.0310082  0.6477148  0.78839074 0.48988217 0.26915997]\n",
      " [0.89041789 0.77372945 0.5181644  0.54768466 0.46834179]\n",
      " [0.99147435 0.24444809 0.81855034 0.59710114 0.09941021]\n",
      " [0.36947178 0.64088981 0.79610061 0.86497205 0.07237211]]\n",
      "\n",
      "Normalized Array:\n",
      "[[ 0.16257479 -1.52481452 -0.67019976 -0.70075741 -0.7161006 ]\n",
      " [-1.68351051  0.53918851  1.04620479 -0.02966291 -0.82517735]\n",
      " [ 1.41392527  0.99336338  0.07227031  0.17866557 -0.10729751]\n",
      " [ 1.77814724 -0.91424251  1.1549043   0.35676963 -1.43697983]\n",
      " [-0.46363923  0.51459028  1.07399227  1.32221481 -1.53442902]]\n"
     ]
    }
   ],
   "source": [
    "def normalize(X):\n",
    "    Xmean=X.mean()\n",
    "    Xstd=X.std()\n",
    "    XZ=(X-Xmean)/Xstd\n",
    "    return XZ\n",
    "\n",
    "X = np.random.rand(5,5) #Call or create a random array\n",
    "print (\"Random Array:\")\n",
    "print (X)\n",
    "Xn = normalize(X) #Normalizes the random arrays generated\n",
    "\n",
    "np.save(\"X_normalized.npy\", Xn) #Saves the file\n",
    "print (\"\")\n",
    "print (\"Normalized Array:\")\n",
    "print (Xn) #Shows the normalized arrays"
   ]
  },
  {
   "cell_type": "code",
   "execution_count": null,
   "id": "6d9db6d4-da86-4717-a001-0efd3dfa9a5a",
   "metadata": {},
   "outputs": [],
   "source": [
    "#Divisible by 3 Problem"
   ]
  },
  {
   "cell_type": "code",
   "execution_count": 20,
   "id": "0d16836d-6c98-40c4-b7de-01a68509e76b",
   "metadata": {},
   "outputs": [
    {
     "name": "stdout",
     "output_type": "stream",
     "text": [
      "Array of Squares of First 100 Positive Integers:\n",
      "[    1     4     9    16    25    36    49    64    81   100   121   144\n",
      "   169   196   225   256   289   324   361   400   441   484   529   576\n",
      "   625   676   729   784   841   900   961  1024  1089  1156  1225  1296\n",
      "  1369  1444  1521  1600  1681  1764  1849  1936  2025  2116  2209  2304\n",
      "  2401  2500  2601  2704  2809  2916  3025  3136  3249  3364  3481  3600\n",
      "  3721  3844  3969  4096  4225  4356  4489  4624  4761  4900  5041  5184\n",
      "  5329  5476  5625  5776  5929  6084  6241  6400  6561  6724  6889  7056\n",
      "  7225  7396  7569  7744  7921  8100  8281  8464  8649  8836  9025  9216\n",
      "  9409  9604  9801 10000]\n",
      "\n",
      "Array of Squares of First 100 Positive Integers showing only numbers that are Divisible by 3:\n",
      "[   9   36   81  144  225  324  441  576  729  900 1089 1296 1521 1764\n",
      " 2025 2304 2601 2916 3249 3600 3969 4356 4761 5184 5625 6084 6561 7056\n",
      " 7569 8100 8649 9216 9801]\n"
     ]
    }
   ],
   "source": [
    "arr = np.arange(1,101) #Create an array containing the first 100 positive integers\n",
    "arrS = arr**2 #squares the array\n",
    "print (\"Array of Squares of First 100 Positive Integers:\")\n",
    "print (arrS) #Prints the first 100 Positive Integers\n",
    "\n",
    "A = arrS.reshape(10, 10) #Reshapes it into 10x10 ndarray\n",
    "div_by_3 = A[A % 3 ==0]\n",
    "\n",
    "np.save(\"div_by_3.npy\", div_by_3) #saves the files\n",
    "print (\"\")\n",
    "print (\"Array of Squares of First 100 Positive Integers showing only numbers that are Divisible by 3:\")\n",
    "print (div_by_3) #prints the positive integers that are divisible by 3"
   ]
  },
  {
   "cell_type": "code",
   "execution_count": null,
   "id": "0e224e8e-299f-47c5-a085-246c1e748f27",
   "metadata": {},
   "outputs": [],
   "source": []
  }
 ],
 "metadata": {
  "kernelspec": {
   "display_name": "Python 3 (ipykernel)",
   "language": "python",
   "name": "python3"
  },
  "language_info": {
   "codemirror_mode": {
    "name": "ipython",
    "version": 3
   },
   "file_extension": ".py",
   "mimetype": "text/x-python",
   "name": "python",
   "nbconvert_exporter": "python",
   "pygments_lexer": "ipython3",
   "version": "3.13.5"
  }
 },
 "nbformat": 4,
 "nbformat_minor": 5
}
